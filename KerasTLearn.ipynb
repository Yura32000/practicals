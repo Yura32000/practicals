{
 "cells": [
  {
   "cell_type": "markdown",
   "metadata": {
    "collapsed": true
   },
   "source": [
    "# Transfer Learning Demo"
   ]
  },
  {
   "cell_type": "markdown",
   "metadata": {},
   "source": [
    "### This demo shows how to classifiy a dataset which contains real life images of the dogs and cats.\n",
    "\n",
    "The demo shows step by step how to use top of the art pre-trained model (visual recognition modles) to classify binary dogs/cats domain with highest accuracy.\n",
    "Firstly we show why using pre-trained model \"as is\" doesn't work well.\n",
    "Secondly, we show how to retrain pre-trained model effectivly to reach the top of the art high score.   "
   ]
  },
  {
   "cell_type": "markdown",
   "metadata": {},
   "source": [
    "### Step 0: Download datasets"
   ]
  },
  {
   "cell_type": "code",
   "execution_count": null,
   "metadata": {
    "collapsed": false
   },
   "outputs": [],
   "source": [
    "!pip install wget"
   ]
  },
  {
   "cell_type": "code",
   "execution_count": null,
   "metadata": {
    "collapsed": false
   },
   "outputs": [],
   "source": [
    "# top level directory\n",
    "root_dir = \"transfer_learning_demo\"\n",
    "\n",
    "!rm -rf $root_dir\n",
    "\n",
    "# create directories\n",
    "!mkdir $root_dir\n",
    "!cd $root_dir; mkdir images\n",
    "\n",
    "# download dataset\n",
    "!cd $root_dir; wget https://raw.githubusercontent.com/Yura32000/practicals/master/data.zip -O data.zip \n",
    "!cd $root_dir; unzip -q data.zip  \n",
    "\n",
    "# download transfer learning image\n",
    "!cd $root_dir; wget https://raw.githubusercontent.com/Yura32000/practicals/master/transfer_learning.jpg\n",
    "    \n",
    "# inspect on disk\n",
    "!pwd; ls -lah $root_dir; "
   ]
  },
  {
   "cell_type": "markdown",
   "metadata": {},
   "source": [
    "### Step 1: Import dependencies"
   ]
  },
  {
   "cell_type": "code",
   "execution_count": null,
   "metadata": {
    "collapsed": false
   },
   "outputs": [],
   "source": [
    "%matplotlib inline\n",
    "import numpy as np\n",
    "import matplotlib.pyplot as plt\n",
    "import os\n",
    "import warnings\n",
    "import wget\n",
    "\n",
    "from keras.applications import ResNet50, imagenet_utils\n",
    "from keras.applications.resnet50 import preprocess_input, decode_predictions\n",
    "from keras.models import Model\n",
    "from keras.layers import Dense, Dropout, Flatten, GlobalAveragePooling2D\n",
    "from keras.preprocessing import image\n",
    "from keras.preprocessing.image import ImageDataGenerator, array_to_img, img_to_array, load_img\n",
    "from keras.callbacks import EarlyStopping, ModelCheckpoint, LearningRateScheduler\n",
    "from keras.regularizers import l2"
   ]
  },
  {
   "cell_type": "markdown",
   "metadata": {},
   "source": [
    "### Step 2: Create Model"
   ]
  },
  {
   "cell_type": "markdown",
   "metadata": {},
   "source": [
    "#### Create pre-trained model for classification task. Use weights learned using ImageNet dataset\n",
    "See ResNet50 documentation at: https://keras.io/applications/#resnet50"
   ]
  },
  {
   "cell_type": "code",
   "execution_count": null,
   "metadata": {
    "collapsed": false
   },
   "outputs": [],
   "source": [
    "resnet_model = ResNet50(weights='imagenet', include_top=True, input_shape=(224,224,3))"
   ]
  },
  {
   "cell_type": "markdown",
   "metadata": {},
   "source": [
    "#### Before training a model, you need to configure the learning process, which is done via the compile method.\n",
    "See documentation at: https://keras.io/getting-started/sequential-model-guide/#compilation"
   ]
  },
  {
   "cell_type": "markdown",
   "metadata": {},
   "source": [
    "### Step 3. Compile model"
   ]
  },
  {
   "cell_type": "code",
   "execution_count": null,
   "metadata": {
    "collapsed": true
   },
   "outputs": [],
   "source": [
    "resnet_model.compile(optimizer='adam', loss='sparse_categorical_crossentropy',metrics=['accuracy'])\n",
    "#resnet_model.summary()"
   ]
  },
  {
   "cell_type": "markdown",
   "metadata": {},
   "source": [
    "### Step 4: Create image generators to feed trainig and test data from disk"
   ]
  },
  {
   "cell_type": "markdown",
   "metadata": {},
   "source": [
    "#### Generate batches of tensor image data with real-time data augmentation. The data will be looped over (in batches) indefinitely.\n",
    "See documentation at: https://keras.io/preprocessing/image/#imagedatagenerator\n"
   ]
  },
  {
   "cell_type": "code",
   "execution_count": null,
   "metadata": {
    "collapsed": false
   },
   "outputs": [],
   "source": [
    "batch_size = 8\n",
    "\n",
    "# each training image will be read from disk and transformed randomly according to generator policy. \n",
    "train_datagen = ImageDataGenerator(\n",
    "        shear_range=0.2,\n",
    "        zoom_range=0.2,\n",
    "        horizontal_flip=True)\n",
    "\n",
    "# Takes the path to a directory, and generates batches of augmented/normalized data. Yields batches indefinitely, in an infinite loop.\n",
    "train_generator = train_datagen.flow_from_directory(\n",
    "        root_dir+'/data/train',\n",
    "        target_size=(224,224),\n",
    "        batch_size=batch_size,\n",
    "        class_mode='binary')"
   ]
  },
  {
   "cell_type": "code",
   "execution_count": null,
   "metadata": {
    "collapsed": false
   },
   "outputs": [],
   "source": [
    "# each test image will be read from disk without any sort of transformation.\n",
    "test_datagen = ImageDataGenerator()\n",
    "\n",
    "test_generator = test_datagen.flow_from_directory(\n",
    "        root_dir+'/data/validation',\n",
    "        target_size=(224,224),\n",
    "        batch_size=batch_size,\n",
    "        class_mode='binary')"
   ]
  },
  {
   "cell_type": "markdown",
   "metadata": {},
   "source": [
    "### Step 5: Define auxilary function to investigate accuracy of a model"
   ]
  },
  {
   "cell_type": "code",
   "execution_count": null,
   "metadata": {
    "collapsed": false
   },
   "outputs": [],
   "source": [
    "def predict(model, url=None, image_path=None, name=\"\", should_decode=True):\n",
    "    # define categories names according to directories in which dataset is separated\n",
    "    categories = sorted(os.listdir(root_dir+\"/data/train\"))\n",
    "    print(\"categories:\", categories)\n",
    "    \n",
    "    image_path = root_dir+\"/images/\"+name if not image_path else root_dir+\"/data/\"+image_path\n",
    "    \n",
    "    if not os.path.isfile(image_path):\n",
    "        wget.download(url, out=image_path)\n",
    "        print(\"downloaded:\", url, \"as\", name)\n",
    "    \n",
    "    print(\"path:\", image_path)\n",
    "    \n",
    "    # load image and scale it according to a model required input shape\n",
    "    orig_image = load_img(image_path, target_size=(224, 224))\n",
    "    plt.imshow(orig_image)\n",
    "    \n",
    "    image = img_to_array(orig_image)\n",
    "    image = np.expand_dims(image, axis=0)\n",
    "    image = imagenet_utils.preprocess_input(image)\n",
    "    \n",
    "    # return categories with probabilities\n",
    "    predictions = model.predict(image)\n",
    "    #print(predictions)\n",
    "    \n",
    "    index = np.argmax(predictions)\n",
    "    print(\"index:\", index)\n",
    "    \n",
    "    decode_preds = imagenet_utils.decode_predictions(predictions) if should_decode else categories[index]\n",
    "        \n",
    "    print(\"decoded prediction:\", decode_preds)"
   ]
  },
  {
   "cell_type": "markdown",
   "metadata": {},
   "source": [
    "### Step 6: Investigate real accuracy of the model "
   ]
  },
  {
   "cell_type": "code",
   "execution_count": null,
   "metadata": {
    "collapsed": false
   },
   "outputs": [],
   "source": [
    "# predict on the cat image from dataset\n",
    "predict(model=resnet_model, image_path='train/cats/cat.207.jpg')"
   ]
  },
  {
   "cell_type": "markdown",
   "metadata": {},
   "source": [
    "We can see that original ImageNet dataset contains a few cats categories rather then one category \"cat\"."
   ]
  },
  {
   "cell_type": "code",
   "execution_count": null,
   "metadata": {
    "collapsed": false
   },
   "outputs": [],
   "source": [
    "# predict on the dog image from dataset\n",
    "predict(model=resnet_model, image_path='train/dogs/dog.613.jpg')"
   ]
  },
  {
   "cell_type": "markdown",
   "metadata": {},
   "source": [
    "Same issue as above."
   ]
  },
  {
   "cell_type": "code",
   "execution_count": null,
   "metadata": {
    "collapsed": false
   },
   "outputs": [],
   "source": [
    "# predict on the odg image from internet\n",
    "predict(model=resnet_model, url='https://encrypted-tbn0.gstatic.com/images?q=tbn:ANd9GcQbQR4USIM1PLxSJfSXapS9WMaYMIlv1N-8fZYA90ADWGIhS6Oh', name='husky_dog.jpg')"
   ]
  },
  {
   "cell_type": "markdown",
   "metadata": {},
   "source": [
    "Same issue as above."
   ]
  },
  {
   "cell_type": "code",
   "execution_count": null,
   "metadata": {
    "collapsed": false
   },
   "outputs": [],
   "source": [
    "# predict on the cat image from internet\n",
    "predict(model=resnet_model, url='https://encrypted-tbn0.gstatic.com/images?q=tbn:ANd9GcQvZlZZ2sHrxhewRJHftyVN_J9m_Rx4_OiADBn3Hg6DCpqydayUcA', name='hairless_cat.jpg')"
   ]
  },
  {
   "cell_type": "markdown",
   "metadata": {},
   "source": [
    "Same issue as above."
   ]
  },
  {
   "cell_type": "code",
   "execution_count": null,
   "metadata": {
    "collapsed": false
   },
   "outputs": [],
   "source": [
    "# predict on the dog image from internet\n",
    "predict(model=resnet_model, url='https://encrypted-tbn0.gstatic.com/images?q=tbn:ANd9GcTgG8-eb4guR9UsYNn6ANeuFh2AiDEBHffkjpZO-qmcTOK9FYPNEA', name='zebra_dog.jpg')"
   ]
  },
  {
   "cell_type": "markdown",
   "metadata": {},
   "source": [
    "Same issue as above."
   ]
  },
  {
   "cell_type": "markdown",
   "metadata": {},
   "source": [
    "#### Summary: we can see that a model verclassifies to or needs. We need a way to narrow a classification only to 2 categories CATS and DOGS"
   ]
  },
  {
   "cell_type": "markdown",
   "metadata": {},
   "source": [
    "### Step 7: Build a model which reuses resnet50 and its weights"
   ]
  },
  {
   "cell_type": "markdown",
   "metadata": {},
   "source": [
    "#### The following figure displays visually what is transfer learning concept."
   ]
  },
  {
   "cell_type": "code",
   "execution_count": null,
   "metadata": {
    "collapsed": false
   },
   "outputs": [],
   "source": [
    "from IPython.display import Image\n",
    "Image(filename=root_dir+'/transfer_learning.jpg') "
   ]
  },
  {
   "cell_type": "code",
   "execution_count": null,
   "metadata": {
    "collapsed": false
   },
   "outputs": [],
   "source": [
    "warnings.filterwarnings(\"ignore\")\n",
    "\n",
    "# create the base pre-trained model\n",
    "base_model = ResNet50(weights='imagenet', include_top=False, input_shape=(224,224,3))\n",
    "\n",
    "# add a global spatial average pooling layer\n",
    "output = base_model.output\n",
    "\n",
    "output = Flatten()(output)\n",
    "output = Dense(1024, activation='relu')(output)\n",
    "output = Dropout(0.4)(output)\n",
    "output = Dense(2, kernel_regularizer=l2(.0005), activation='softmax')(output)\n",
    "\n",
    "# this is the model we will train\n",
    "model = Model(inputs=base_model.input, outputs=output)\n",
    "\n",
    "# first: train only the top layers (which were randomly initialized)\n",
    "# i.e. freeze all convolutional layers\n",
    "for layer in base_model.layers:\n",
    "    layer.trainable = False\n",
    "  \n",
    "# tells Keras to stop training when loss didn't improve for 3 epochs\n",
    "earlyStopping = EarlyStopping(monitor='val_loss', patience=3, verbose=1)\n",
    "\n",
    "# tells Keras to save the best model's weights\n",
    "checkpointer = ModelCheckpoint(filepath=root_dir+'/resnet50_cats_dogs.h5', verbose=1, save_best_only=True)\n",
    "\n",
    "# tells Keras to update learning rate during training \n",
    "def schedule(epoch):\n",
    "    if epoch < 15:\n",
    "        return .002\n",
    "    elif epoch < 28:\n",
    "        return .0004\n",
    "    else:\n",
    "        return .0001\n",
    "\n",
    "learningRateScheduler = LearningRateScheduler(schedule)\n",
    "\n",
    "model.compile(optimizer='adam', loss='sparse_categorical_crossentropy',metrics=['accuracy'], callbacks=[earlyStopping, checkpointer, learningRateScheduler])\n",
    "\n",
    "#model.summary()"
   ]
  },
  {
   "cell_type": "markdown",
   "metadata": {},
   "source": [
    "### Step 8: Retrain new model while only last layers are trained \n",
    "We can achieve state of the art accuracy with only few epochs. Training this model with extra epochs will reach accuracy above 98% "
   ]
  },
  {
   "cell_type": "code",
   "execution_count": null,
   "metadata": {
    "collapsed": false
   },
   "outputs": [],
   "source": [
    "model.fit_generator(\n",
    "        train_generator,\n",
    "        steps_per_epoch= 2000 // batch_size,\n",
    "        epochs=2,\n",
    "        validation_data=test_generator,\n",
    "        validation_steps=800 // batch_size)"
   ]
  },
  {
   "cell_type": "markdown",
   "metadata": {},
   "source": [
    "### Step 9: Estimate pretrianed model's accuracy and predict on cats dogs images"
   ]
  },
  {
   "cell_type": "code",
   "execution_count": null,
   "metadata": {
    "collapsed": false
   },
   "outputs": [],
   "source": [
    "scores = model.evaluate_generator(test_generator,steps=20)\n",
    "print(\"Accuracy = \", scores[1])"
   ]
  },
  {
   "cell_type": "markdown",
   "metadata": {},
   "source": [
    "This is a state of the art accuracy on less than a few minutes training"
   ]
  },
  {
   "cell_type": "code",
   "execution_count": null,
   "metadata": {
    "collapsed": false
   },
   "outputs": [],
   "source": [
    "# predict on the cat image from dataset\n",
    "predict(model=model, image_path='train/cats/cat.207.jpg', should_decode=False)"
   ]
  },
  {
   "cell_type": "code",
   "execution_count": null,
   "metadata": {
    "collapsed": false
   },
   "outputs": [],
   "source": [
    "# predict on the dog image from dataset\n",
    "predict(model=model, image_path='train/dogs/dog.613.jpg', should_decode=False)"
   ]
  },
  {
   "cell_type": "code",
   "execution_count": null,
   "metadata": {
    "collapsed": false
   },
   "outputs": [],
   "source": [
    "# predict on the cat image from internet\n",
    "predict(model=model, url='https://encrypted-tbn0.gstatic.com/images?q=tbn:ANd9GcQbQR4USIM1PLxSJfSXapS9WMaYMIlv1N-8fZYA90ADWGIhS6Oh', name='husky_dog.jpg', should_decode=False)"
   ]
  },
  {
   "cell_type": "code",
   "execution_count": null,
   "metadata": {
    "collapsed": false
   },
   "outputs": [],
   "source": [
    "# predict on the cat image from internet\n",
    "predict(model=model, url='https://encrypted-tbn0.gstatic.com/images?q=tbn:ANd9GcQvZlZZ2sHrxhewRJHftyVN_J9m_Rx4_OiADBn3Hg6DCpqydayUcA', name='hairless_cat.jpg', should_decode=False)"
   ]
  },
  {
   "cell_type": "code",
   "execution_count": null,
   "metadata": {
    "collapsed": false
   },
   "outputs": [],
   "source": [
    "# predict on the cat image from internet\n",
    "predict(model=model, url='https://encrypted-tbn0.gstatic.com/images?q=tbn:ANd9GcTgG8-eb4guR9UsYNn6ANeuFh2AiDEBHffkjpZO-qmcTOK9FYPNEA', name='zebra_dog.jpg', should_decode=False)"
   ]
  },
  {
   "cell_type": "markdown",
   "metadata": {},
   "source": [
    "Oops: Misclassification. However we can see that realizing this image is very hard to classify"
   ]
  },
  {
   "cell_type": "markdown",
   "metadata": {},
   "source": [
    "### Step 10: Save model in order to share it beween platforms or allow online training "
   ]
  },
  {
   "cell_type": "code",
   "execution_count": null,
   "metadata": {
    "collapsed": false
   },
   "outputs": [],
   "source": [
    "from keras.models import load_model\n",
    "\n",
    "path = root_dir + '/my_model.h5'\n",
    "\n",
    "model.save(path)  # creates a HDF5 file 'my_model.h5'\n",
    "\n",
    "# returns a compiled model\n",
    "# identical to the previous one\n",
    "new_model = load_model(path)"
   ]
  },
  {
   "cell_type": "code",
   "execution_count": null,
   "metadata": {
    "collapsed": false
   },
   "outputs": [],
   "source": [
    "scores = new_model.evaluate_generator(test_generator,steps=20)\n",
    "print(\"Accuracy = \", scores[1])"
   ]
  },
  {
   "cell_type": "code",
   "execution_count": null,
   "metadata": {
    "collapsed": false
   },
   "outputs": [],
   "source": [
    "# show files on disk\n",
    "!ls -lah $root_dir"
   ]
  },
  {
   "cell_type": "code",
   "execution_count": null,
   "metadata": {
    "collapsed": true
   },
   "outputs": [],
   "source": []
  }
 ],
 "metadata": {
  "kernelspec": {
   "display_name": "Python 3.5 (Experimental) with Spark 2.1",
   "language": "python",
   "name": "python3-spark21"
  },
  "language_info": {
   "codemirror_mode": {
    "name": "ipython",
    "version": 3
   },
   "file_extension": ".py",
   "mimetype": "text/x-python",
   "name": "python",
   "nbconvert_exporter": "python",
   "pygments_lexer": "ipython3",
   "version": "3.5.2"
  }
 },
 "nbformat": 4,
 "nbformat_minor": 0
}